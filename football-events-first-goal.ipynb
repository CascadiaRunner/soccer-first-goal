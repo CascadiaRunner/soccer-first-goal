{
 "cells": [
  {
   "cell_type": "code",
   "execution_count": 1,
   "metadata": {
    "ExecuteTime": {
     "end_time": "2018-10-29T10:22:31.615736",
     "start_time": "2018-10-29T10:22:29.711721"
    },
    "collapsed": true
   },
   "outputs": [],
   "source": [
    "import pandas\n",
    "import numpy\n",
    "import matplotlib.pyplot as plt\n",
    "import seaborn\n",
    "seaborn.set_style('white')\n",
    "%matplotlib inline"
   ]
  },
  {
   "cell_type": "code",
   "execution_count": 2,
   "metadata": {
    "ExecuteTime": {
     "end_time": "2018-10-29T10:22:36.144523",
     "start_time": "2018-10-29T10:22:31.617274"
    },
    "collapsed": false
   },
   "outputs": [
    {
     "data": {
      "text/plain": [
       "Index(['id_odsp', 'id_event', 'sort_order', 'time', 'text', 'event_type',\n",
       "       'event_type2', 'side', 'event_team', 'opponent', 'player', 'player2',\n",
       "       'player_in', 'player_out', 'shot_place', 'shot_outcome', 'is_goal',\n",
       "       'location', 'bodypart', 'assist_method', 'situation', 'fast_break'],\n",
       "      dtype='object')"
      ]
     },
     "execution_count": 2,
     "metadata": {},
     "output_type": "execute_result"
    }
   ],
   "source": [
    "events = pandas.read_csv('events.csv')\n",
    "events.columns"
   ]
  },
  {
   "cell_type": "code",
   "execution_count": 3,
   "metadata": {
    "ExecuteTime": {
     "end_time": "2018-10-29T10:22:36.198850",
     "start_time": "2018-10-29T10:22:36.146557"
    },
    "collapsed": false
   },
   "outputs": [
    {
     "data": {
      "text/plain": [
       "9074"
      ]
     },
     "execution_count": 3,
     "metadata": {},
     "output_type": "execute_result"
    }
   ],
   "source": [
    "## number of unique games in the dataset\n",
    "events['id_odsp'].nunique()"
   ]
  },
  {
   "cell_type": "markdown",
   "metadata": {},
   "source": [
    "## Exploration"
   ]
  },
  {
   "cell_type": "markdown",
   "metadata": {},
   "source": [
    "### minute zero events"
   ]
  },
  {
   "cell_type": "code",
   "execution_count": 4,
   "metadata": {
    "ExecuteTime": {
     "end_time": "2018-10-29T10:22:36.306924",
     "start_time": "2018-10-29T10:22:36.209503"
    },
    "collapsed": false
   },
   "outputs": [
    {
     "data": {
      "text/html": [
       "<div>\n",
       "<style>\n",
       "    .dataframe thead tr:only-child th {\n",
       "        text-align: right;\n",
       "    }\n",
       "\n",
       "    .dataframe thead th {\n",
       "        text-align: left;\n",
       "    }\n",
       "\n",
       "    .dataframe tbody tr th {\n",
       "        vertical-align: top;\n",
       "    }\n",
       "</style>\n",
       "<table border=\"1\" class=\"dataframe\">\n",
       "  <thead>\n",
       "    <tr style=\"text-align: right;\">\n",
       "      <th></th>\n",
       "      <th>id_odsp</th>\n",
       "      <th>id_event</th>\n",
       "      <th>sort_order</th>\n",
       "      <th>time</th>\n",
       "      <th>text</th>\n",
       "      <th>event_type</th>\n",
       "      <th>event_type2</th>\n",
       "      <th>side</th>\n",
       "      <th>event_team</th>\n",
       "      <th>opponent</th>\n",
       "      <th>...</th>\n",
       "      <th>player_in</th>\n",
       "      <th>player_out</th>\n",
       "      <th>shot_place</th>\n",
       "      <th>shot_outcome</th>\n",
       "      <th>is_goal</th>\n",
       "      <th>location</th>\n",
       "      <th>bodypart</th>\n",
       "      <th>assist_method</th>\n",
       "      <th>situation</th>\n",
       "      <th>fast_break</th>\n",
       "    </tr>\n",
       "  </thead>\n",
       "  <tbody>\n",
       "    <tr>\n",
       "      <th>139163</th>\n",
       "      <td>vPBjTCod/</td>\n",
       "      <td>vPBjTCod1</td>\n",
       "      <td>1</td>\n",
       "      <td>0</td>\n",
       "      <td>Attempt saved. M'Baye Niang (Caen) left footed...</td>\n",
       "      <td>1</td>\n",
       "      <td>NaN</td>\n",
       "      <td>2</td>\n",
       "      <td>Caen</td>\n",
       "      <td>AS Nancy Lorraine</td>\n",
       "      <td>...</td>\n",
       "      <td>NaN</td>\n",
       "      <td>NaN</td>\n",
       "      <td>3.0</td>\n",
       "      <td>1.0</td>\n",
       "      <td>0</td>\n",
       "      <td>15.0</td>\n",
       "      <td>2.0</td>\n",
       "      <td>0</td>\n",
       "      <td>1.0</td>\n",
       "      <td>0</td>\n",
       "    </tr>\n",
       "    <tr>\n",
       "      <th>333297</th>\n",
       "      <td>bXeGR2ug/</td>\n",
       "      <td>bXeGR2ug1</td>\n",
       "      <td>1</td>\n",
       "      <td>0</td>\n",
       "      <td>Attempt missed. Youssuf Mulumbu (West Bromwich...</td>\n",
       "      <td>1</td>\n",
       "      <td>12.0</td>\n",
       "      <td>1</td>\n",
       "      <td>West Brom</td>\n",
       "      <td>Arsenal</td>\n",
       "      <td>...</td>\n",
       "      <td>NaN</td>\n",
       "      <td>NaN</td>\n",
       "      <td>8.0</td>\n",
       "      <td>2.0</td>\n",
       "      <td>0</td>\n",
       "      <td>17.0</td>\n",
       "      <td>1.0</td>\n",
       "      <td>1</td>\n",
       "      <td>1.0</td>\n",
       "      <td>0</td>\n",
       "    </tr>\n",
       "    <tr>\n",
       "      <th>336020</th>\n",
       "      <td>biGuUe1i/</td>\n",
       "      <td>biGuUe1i1</td>\n",
       "      <td>1</td>\n",
       "      <td>0</td>\n",
       "      <td>Foul by Gareth McAuley (West Bromwich Albion).</td>\n",
       "      <td>3</td>\n",
       "      <td>NaN</td>\n",
       "      <td>2</td>\n",
       "      <td>West Brom</td>\n",
       "      <td>Stoke City</td>\n",
       "      <td>...</td>\n",
       "      <td>NaN</td>\n",
       "      <td>NaN</td>\n",
       "      <td>NaN</td>\n",
       "      <td>NaN</td>\n",
       "      <td>0</td>\n",
       "      <td>NaN</td>\n",
       "      <td>NaN</td>\n",
       "      <td>0</td>\n",
       "      <td>NaN</td>\n",
       "      <td>0</td>\n",
       "    </tr>\n",
       "    <tr>\n",
       "      <th>336021</th>\n",
       "      <td>biGuUe1i/</td>\n",
       "      <td>biGuUe1i2</td>\n",
       "      <td>2</td>\n",
       "      <td>0</td>\n",
       "      <td>Jonathan Walters (Stoke City) wins a free kick...</td>\n",
       "      <td>8</td>\n",
       "      <td>NaN</td>\n",
       "      <td>1</td>\n",
       "      <td>Stoke City</td>\n",
       "      <td>West Brom</td>\n",
       "      <td>...</td>\n",
       "      <td>NaN</td>\n",
       "      <td>NaN</td>\n",
       "      <td>NaN</td>\n",
       "      <td>NaN</td>\n",
       "      <td>0</td>\n",
       "      <td>1.0</td>\n",
       "      <td>NaN</td>\n",
       "      <td>0</td>\n",
       "      <td>NaN</td>\n",
       "      <td>0</td>\n",
       "    </tr>\n",
       "    <tr>\n",
       "      <th>337424</th>\n",
       "      <td>tdoLQMfa/</td>\n",
       "      <td>tdoLQMfa1</td>\n",
       "      <td>1</td>\n",
       "      <td>0</td>\n",
       "      <td>Mesut Ozil (Arsenal) wins a free kick in the a...</td>\n",
       "      <td>8</td>\n",
       "      <td>NaN</td>\n",
       "      <td>1</td>\n",
       "      <td>Arsenal</td>\n",
       "      <td>Norwich City</td>\n",
       "      <td>...</td>\n",
       "      <td>NaN</td>\n",
       "      <td>NaN</td>\n",
       "      <td>NaN</td>\n",
       "      <td>NaN</td>\n",
       "      <td>0</td>\n",
       "      <td>1.0</td>\n",
       "      <td>NaN</td>\n",
       "      <td>0</td>\n",
       "      <td>NaN</td>\n",
       "      <td>0</td>\n",
       "    </tr>\n",
       "  </tbody>\n",
       "</table>\n",
       "<p>5 rows × 22 columns</p>\n",
       "</div>"
      ],
      "text/plain": [
       "          id_odsp   id_event  sort_order  time  \\\n",
       "139163  vPBjTCod/  vPBjTCod1           1     0   \n",
       "333297  bXeGR2ug/  bXeGR2ug1           1     0   \n",
       "336020  biGuUe1i/  biGuUe1i1           1     0   \n",
       "336021  biGuUe1i/  biGuUe1i2           2     0   \n",
       "337424  tdoLQMfa/  tdoLQMfa1           1     0   \n",
       "\n",
       "                                                     text  event_type  \\\n",
       "139163  Attempt saved. M'Baye Niang (Caen) left footed...           1   \n",
       "333297  Attempt missed. Youssuf Mulumbu (West Bromwich...           1   \n",
       "336020     Foul by Gareth McAuley (West Bromwich Albion).           3   \n",
       "336021  Jonathan Walters (Stoke City) wins a free kick...           8   \n",
       "337424  Mesut Ozil (Arsenal) wins a free kick in the a...           8   \n",
       "\n",
       "        event_type2  side  event_team           opponent     ...      \\\n",
       "139163          NaN     2        Caen  AS Nancy Lorraine     ...       \n",
       "333297         12.0     1   West Brom            Arsenal     ...       \n",
       "336020          NaN     2   West Brom         Stoke City     ...       \n",
       "336021          NaN     1  Stoke City          West Brom     ...       \n",
       "337424          NaN     1     Arsenal       Norwich City     ...       \n",
       "\n",
       "       player_in player_out shot_place shot_outcome  is_goal  location  \\\n",
       "139163       NaN        NaN        3.0          1.0        0      15.0   \n",
       "333297       NaN        NaN        8.0          2.0        0      17.0   \n",
       "336020       NaN        NaN        NaN          NaN        0       NaN   \n",
       "336021       NaN        NaN        NaN          NaN        0       1.0   \n",
       "337424       NaN        NaN        NaN          NaN        0       1.0   \n",
       "\n",
       "        bodypart  assist_method  situation  fast_break  \n",
       "139163       2.0              0        1.0           0  \n",
       "333297       1.0              1        1.0           0  \n",
       "336020       NaN              0        NaN           0  \n",
       "336021       NaN              0        NaN           0  \n",
       "337424       NaN              0        NaN           0  \n",
       "\n",
       "[5 rows x 22 columns]"
      ]
     },
     "execution_count": 4,
     "metadata": {},
     "output_type": "execute_result"
    }
   ],
   "source": [
    "events[events['time']==0].head()"
   ]
  },
  {
   "cell_type": "markdown",
   "metadata": {},
   "source": [
    "### number of events per minute"
   ]
  },
  {
   "cell_type": "code",
   "execution_count": 5,
   "metadata": {
    "ExecuteTime": {
     "end_time": "2018-10-29T10:22:37.032893",
     "start_time": "2018-10-29T10:22:36.309772"
    },
    "collapsed": false
   },
   "outputs": [
    {
     "data": {
      "image/png": "[encoded data removed]",
      "text/plain": [
       "<Figure size 432x288 with 1 Axes>"
      ]
     },
     "metadata": {},
     "output_type": "display_data"
    }
   ],
   "source": [
    "n = events['id_odsp'].nunique()\n",
    "\n",
    "plt.bar(range(len(events.groupby('time').size())), events.groupby('time').size()/n, color='lightskyblue')\n",
    "\n",
    "# temp = df.groupby('time_first_goal_scored')['comeback_draw'].mean()*100\n",
    "# plt.bar(range(len(temp)), temp, color='b')\n",
    "\n",
    "plt.xticks([10*x for x in range(10)],[10*x for x in range(10)])\n",
    "#plt.yticks([10000*x for x in range(5)], [10*x for x in range(5)])\n",
    "# plt.axvline(x=45, color='k', ls='dashed')\n",
    "# plt.axvline(x=90, color='k', ls='dashed')\n",
    "plt.xlim((-0.9,90.5))\n",
    "seaborn.despine()\n",
    "plt.ylabel('Number of Events', fontsize = 17)\n",
    "plt.xlabel('Minute of the Game', fontsize = 17)\n",
    "#plt.ylim((0,100))\n",
    "plt.tight_layout()\n",
    "plt.tick_params(labelsize=15)\n",
    "plt.savefig('number_of_events.png', dpi=200, frameon=False)\n",
    "\n"
   ]
  },
  {
   "cell_type": "markdown",
   "metadata": {
    "ExecuteTime": {
     "end_time": "2018-10-04T20:48:30.680998",
     "start_time": "2018-10-04T20:48:30.664463"
    }
   },
   "source": [
    "## for each unique game, get who scored first, the time they scored, and who won the game"
   ]
  },
  {
   "cell_type": "markdown",
   "metadata": {},
   "source": [
    "### for each unique game get the time and side of the first goal"
   ]
  },
  {
   "cell_type": "code",
   "execution_count": 6,
   "metadata": {
    "ExecuteTime": {
     "end_time": "2018-10-29T10:22:37.087238",
     "start_time": "2018-10-29T10:22:37.035369"
    },
    "collapsed": false
   },
   "outputs": [],
   "source": [
    "## the time of the first goal of each game\n",
    "\n",
    "#for each game, get the minimum time of a goal event\n",
    "first_goal_time =  pandas.DataFrame({'time' : events[events['is_goal']==1].groupby('id_odsp')['time'].min()})\n",
    "first_goal_time.reset_index(inplace = True)"
   ]
  },
  {
   "cell_type": "code",
   "execution_count": 7,
   "metadata": {
    "ExecuteTime": {
     "end_time": "2018-10-29T10:22:37.127124",
     "start_time": "2018-10-29T10:22:37.089902"
    },
    "collapsed": false
   },
   "outputs": [],
   "source": [
    "# join the time of the first goal back to the original dataset to get the side who scored\n",
    "\n",
    "first_goal_time_side = pandas.merge(first_goal_time, events[events['is_goal']==1][['id_odsp','time','side']], on=['id_odsp', 'time'], how = 'inner')\n",
    "first_goal_time_side.rename(columns={'side':'first_scored_side','time':'time_first_goal_scored'}, inplace=True)"
   ]
  },
  {
   "cell_type": "code",
   "execution_count": 8,
   "metadata": {
    "ExecuteTime": {
     "end_time": "2018-10-29T10:22:37.139675",
     "start_time": "2018-10-29T10:22:37.128606"
    },
    "collapsed": false
   },
   "outputs": [
    {
     "data": {
      "text/html": [
       "<div>\n",
       "<style>\n",
       "    .dataframe thead tr:only-child th {\n",
       "        text-align: right;\n",
       "    }\n",
       "\n",
       "    .dataframe thead th {\n",
       "        text-align: left;\n",
       "    }\n",
       "\n",
       "    .dataframe tbody tr th {\n",
       "        vertical-align: top;\n",
       "    }\n",
       "</style>\n",
       "<table border=\"1\" class=\"dataframe\">\n",
       "  <thead>\n",
       "    <tr style=\"text-align: right;\">\n",
       "      <th></th>\n",
       "      <th>id_odsp</th>\n",
       "      <th>time_first_goal_scored</th>\n",
       "      <th>first_scored_side</th>\n",
       "    </tr>\n",
       "  </thead>\n",
       "  <tbody>\n",
       "    <tr>\n",
       "      <th>0</th>\n",
       "      <td>004f4ING/</td>\n",
       "      <td>82</td>\n",
       "      <td>2</td>\n",
       "    </tr>\n",
       "    <tr>\n",
       "      <th>1</th>\n",
       "      <td>00LMl81F/</td>\n",
       "      <td>17</td>\n",
       "      <td>2</td>\n",
       "    </tr>\n",
       "    <tr>\n",
       "      <th>2</th>\n",
       "      <td>00QH2XdM/</td>\n",
       "      <td>14</td>\n",
       "      <td>1</td>\n",
       "    </tr>\n",
       "    <tr>\n",
       "      <th>3</th>\n",
       "      <td>00QL4t1L/</td>\n",
       "      <td>77</td>\n",
       "      <td>1</td>\n",
       "    </tr>\n",
       "    <tr>\n",
       "      <th>4</th>\n",
       "      <td>00WAhrVe/</td>\n",
       "      <td>28</td>\n",
       "      <td>2</td>\n",
       "    </tr>\n",
       "  </tbody>\n",
       "</table>\n",
       "</div>"
      ],
      "text/plain": [
       "     id_odsp  time_first_goal_scored  first_scored_side\n",
       "0  004f4ING/                      82                  2\n",
       "1  00LMl81F/                      17                  2\n",
       "2  00QH2XdM/                      14                  1\n",
       "3  00QL4t1L/                      77                  1\n",
       "4  00WAhrVe/                      28                  2"
      ]
     },
     "execution_count": 8,
     "metadata": {},
     "output_type": "execute_result"
    }
   ],
   "source": [
    "first_goal_time_side.head()"
   ]
  },
  {
   "cell_type": "code",
   "execution_count": 9,
   "metadata": {
    "ExecuteTime": {
     "end_time": "2018-10-29T10:22:37.236416",
     "start_time": "2018-10-29T10:22:37.143356"
    },
    "collapsed": false
   },
   "outputs": [
    {
     "data": {
      "text/plain": [
       "(8366, 9074, 0.9219748732642715)"
      ]
     },
     "execution_count": 9,
     "metadata": {},
     "output_type": "execute_result"
    }
   ],
   "source": [
    "## how many games are left in our new 'first_goal_time_side' dataset. i.e., how many games ended 0-0 and are excluded from our analysis\n",
    "len(first_goal_time_side), events['id_odsp'].nunique(), len(first_goal_time_side)/events['id_odsp'].nunique()"
   ]
  },
  {
   "cell_type": "markdown",
   "metadata": {},
   "source": [
    "### get the winner of each game"
   ]
  },
  {
   "cell_type": "code",
   "execution_count": 10,
   "metadata": {
    "ExecuteTime": {
     "end_time": "2018-10-29T10:22:37.447390",
     "start_time": "2018-10-29T10:22:37.244327"
    },
    "collapsed": false
   },
   "outputs": [
    {
     "name": "stderr",
     "output_type": "stream",
     "text": [
      "//anaconda/lib/python3.5/site-packages/ipykernel/__main__.py:4: UserWarning: Boolean Series key will be reindexed to match DataFrame index.\n",
      "//anaconda/lib/python3.5/site-packages/ipykernel/__main__.py:8: UserWarning: Boolean Series key will be reindexed to match DataFrame index.\n"
     ]
    },
    {
     "data": {
      "text/html": [
       "<div>\n",
       "<style>\n",
       "    .dataframe thead tr:only-child th {\n",
       "        text-align: right;\n",
       "    }\n",
       "\n",
       "    .dataframe thead th {\n",
       "        text-align: left;\n",
       "    }\n",
       "\n",
       "    .dataframe tbody tr th {\n",
       "        vertical-align: top;\n",
       "    }\n",
       "</style>\n",
       "<table border=\"1\" class=\"dataframe\">\n",
       "  <thead>\n",
       "    <tr style=\"text-align: right;\">\n",
       "      <th></th>\n",
       "      <th>id_odsp</th>\n",
       "      <th>num_goals_home</th>\n",
       "      <th>num_goals_away</th>\n",
       "    </tr>\n",
       "  </thead>\n",
       "  <tbody>\n",
       "    <tr>\n",
       "      <th>0</th>\n",
       "      <td>00LMl81F/</td>\n",
       "      <td>2.0</td>\n",
       "      <td>3.0</td>\n",
       "    </tr>\n",
       "    <tr>\n",
       "      <th>1</th>\n",
       "      <td>00QH2XdM/</td>\n",
       "      <td>3.0</td>\n",
       "      <td>2.0</td>\n",
       "    </tr>\n",
       "    <tr>\n",
       "      <th>2</th>\n",
       "      <td>00QL4t1L/</td>\n",
       "      <td>2.0</td>\n",
       "      <td>0.0</td>\n",
       "    </tr>\n",
       "    <tr>\n",
       "      <th>3</th>\n",
       "      <td>00WAhrVe/</td>\n",
       "      <td>3.0</td>\n",
       "      <td>1.0</td>\n",
       "    </tr>\n",
       "    <tr>\n",
       "      <th>4</th>\n",
       "      <td>00Wld37M/</td>\n",
       "      <td>2.0</td>\n",
       "      <td>0.0</td>\n",
       "    </tr>\n",
       "  </tbody>\n",
       "</table>\n",
       "</div>"
      ],
      "text/plain": [
       "     id_odsp  num_goals_home  num_goals_away\n",
       "0  00LMl81F/             2.0             3.0\n",
       "1  00QH2XdM/             3.0             2.0\n",
       "2  00QL4t1L/             2.0             0.0\n",
       "3  00WAhrVe/             3.0             1.0\n",
       "4  00Wld37M/             2.0             0.0"
      ]
     },
     "execution_count": 10,
     "metadata": {},
     "output_type": "execute_result"
    }
   ],
   "source": [
    "## get the number of goals each side scored\n",
    "\n",
    "#number of goals from the home side\n",
    "home_side_goals = pandas.DataFrame({'num_goals_home' : events[events['is_goal']==1][events['side']==1].groupby('id_odsp').size()})\n",
    "home_side_goals.reset_index(inplace = True)\n",
    "\n",
    "#number of goals from the away side\n",
    "away_side_goals = pandas.DataFrame({'num_goals_away' : events[events['is_goal']==1][events['side']==2].groupby('id_odsp').size()})\n",
    "away_side_goals.reset_index(inplace = True)\n",
    "\n",
    "#merge the two on the game id\n",
    "num_goals = pandas.merge(home_side_goals, away_side_goals, on='id_odsp', how='outer') ##left join so that we \n",
    "num_goals.fillna(0, inplace = True)\n",
    "num_goals.head()"
   ]
  },
  {
   "cell_type": "markdown",
   "metadata": {},
   "source": [
    "### determine the winning side. 0 if draw"
   ]
  },
  {
   "cell_type": "code",
   "execution_count": 11,
   "metadata": {
    "ExecuteTime": {
     "end_time": "2018-10-29T10:22:37.798560",
     "start_time": "2018-10-29T10:22:37.450877"
    },
    "collapsed": false
   },
   "outputs": [
    {
     "data": {
      "text/html": [
       "<div>\n",
       "<style>\n",
       "    .dataframe thead tr:only-child th {\n",
       "        text-align: right;\n",
       "    }\n",
       "\n",
       "    .dataframe thead th {\n",
       "        text-align: left;\n",
       "    }\n",
       "\n",
       "    .dataframe tbody tr th {\n",
       "        vertical-align: top;\n",
       "    }\n",
       "</style>\n",
       "<table border=\"1\" class=\"dataframe\">\n",
       "  <thead>\n",
       "    <tr style=\"text-align: right;\">\n",
       "      <th></th>\n",
       "      <th>id_odsp</th>\n",
       "      <th>num_goals_home</th>\n",
       "      <th>num_goals_away</th>\n",
       "      <th>winner</th>\n",
       "    </tr>\n",
       "  </thead>\n",
       "  <tbody>\n",
       "    <tr>\n",
       "      <th>0</th>\n",
       "      <td>00LMl81F/</td>\n",
       "      <td>2.0</td>\n",
       "      <td>3.0</td>\n",
       "      <td>2</td>\n",
       "    </tr>\n",
       "    <tr>\n",
       "      <th>1</th>\n",
       "      <td>00QH2XdM/</td>\n",
       "      <td>3.0</td>\n",
       "      <td>2.0</td>\n",
       "      <td>1</td>\n",
       "    </tr>\n",
       "    <tr>\n",
       "      <th>2</th>\n",
       "      <td>00QL4t1L/</td>\n",
       "      <td>2.0</td>\n",
       "      <td>0.0</td>\n",
       "      <td>1</td>\n",
       "    </tr>\n",
       "    <tr>\n",
       "      <th>3</th>\n",
       "      <td>00WAhrVe/</td>\n",
       "      <td>3.0</td>\n",
       "      <td>1.0</td>\n",
       "      <td>1</td>\n",
       "    </tr>\n",
       "    <tr>\n",
       "      <th>4</th>\n",
       "      <td>00Wld37M/</td>\n",
       "      <td>2.0</td>\n",
       "      <td>0.0</td>\n",
       "      <td>1</td>\n",
       "    </tr>\n",
       "  </tbody>\n",
       "</table>\n",
       "</div>"
      ],
      "text/plain": [
       "     id_odsp  num_goals_home  num_goals_away  winner\n",
       "0  00LMl81F/             2.0             3.0       2\n",
       "1  00QH2XdM/             3.0             2.0       1\n",
       "2  00QL4t1L/             2.0             0.0       1\n",
       "3  00WAhrVe/             3.0             1.0       1\n",
       "4  00Wld37M/             2.0             0.0       1"
      ]
     },
     "execution_count": 11,
     "metadata": {},
     "output_type": "execute_result"
    }
   ],
   "source": [
    "def get_winner(n_home, n_away): ##get two numbers and return 0 if draw or the winning side\n",
    "    if n_home == n_away:\n",
    "        return 0\n",
    "    elif n_home < n_away: #if the away team won\n",
    "        return 2\n",
    "    else:\n",
    "        return 1\n",
    "\n",
    "num_goals['winner'] = num_goals.apply(lambda x: get_winner(x['num_goals_home'], x['num_goals_away']), axis = 1)\n",
    "num_goals.head()"
   ]
  },
  {
   "cell_type": "code",
   "execution_count": 12,
   "metadata": {
    "ExecuteTime": {
     "end_time": "2018-10-29T10:22:37.809862",
     "start_time": "2018-10-29T10:22:37.801133"
    },
    "collapsed": false
   },
   "outputs": [
    {
     "data": {
      "text/plain": [
       "winner\n",
       "0    1595\n",
       "1    4189\n",
       "2    2576\n",
       "dtype: int64"
      ]
     },
     "execution_count": 12,
     "metadata": {},
     "output_type": "execute_result"
    }
   ],
   "source": [
    "## who won most the games. We expect to see the home team winning more\n",
    "num_goals.groupby('winner').size()"
   ]
  },
  {
   "cell_type": "markdown",
   "metadata": {},
   "source": [
    "### combine the first-goal dataset with the winning-side dataset"
   ]
  },
  {
   "cell_type": "code",
   "execution_count": 13,
   "metadata": {
    "ExecuteTime": {
     "end_time": "2018-10-29T10:22:37.852298",
     "start_time": "2018-10-29T10:22:37.814710"
    },
    "collapsed": false
   },
   "outputs": [
    {
     "data": {
      "text/html": [
       "<div>\n",
       "<style>\n",
       "    .dataframe thead tr:only-child th {\n",
       "        text-align: right;\n",
       "    }\n",
       "\n",
       "    .dataframe thead th {\n",
       "        text-align: left;\n",
       "    }\n",
       "\n",
       "    .dataframe tbody tr th {\n",
       "        vertical-align: top;\n",
       "    }\n",
       "</style>\n",
       "<table border=\"1\" class=\"dataframe\">\n",
       "  <thead>\n",
       "    <tr style=\"text-align: right;\">\n",
       "      <th></th>\n",
       "      <th>id_odsp</th>\n",
       "      <th>num_goals_home</th>\n",
       "      <th>num_goals_away</th>\n",
       "      <th>winner</th>\n",
       "      <th>time_first_goal_scored</th>\n",
       "      <th>first_scored_side</th>\n",
       "    </tr>\n",
       "  </thead>\n",
       "  <tbody>\n",
       "    <tr>\n",
       "      <th>0</th>\n",
       "      <td>00LMl81F/</td>\n",
       "      <td>2.0</td>\n",
       "      <td>3.0</td>\n",
       "      <td>2</td>\n",
       "      <td>17</td>\n",
       "      <td>2</td>\n",
       "    </tr>\n",
       "    <tr>\n",
       "      <th>1</th>\n",
       "      <td>00QH2XdM/</td>\n",
       "      <td>3.0</td>\n",
       "      <td>2.0</td>\n",
       "      <td>1</td>\n",
       "      <td>14</td>\n",
       "      <td>1</td>\n",
       "    </tr>\n",
       "    <tr>\n",
       "      <th>2</th>\n",
       "      <td>00QL4t1L/</td>\n",
       "      <td>2.0</td>\n",
       "      <td>0.0</td>\n",
       "      <td>1</td>\n",
       "      <td>77</td>\n",
       "      <td>1</td>\n",
       "    </tr>\n",
       "    <tr>\n",
       "      <th>3</th>\n",
       "      <td>00WAhrVe/</td>\n",
       "      <td>3.0</td>\n",
       "      <td>1.0</td>\n",
       "      <td>1</td>\n",
       "      <td>28</td>\n",
       "      <td>2</td>\n",
       "    </tr>\n",
       "    <tr>\n",
       "      <th>4</th>\n",
       "      <td>00Wld37M/</td>\n",
       "      <td>2.0</td>\n",
       "      <td>0.0</td>\n",
       "      <td>1</td>\n",
       "      <td>45</td>\n",
       "      <td>1</td>\n",
       "    </tr>\n",
       "  </tbody>\n",
       "</table>\n",
       "</div>"
      ],
      "text/plain": [
       "     id_odsp  num_goals_home  num_goals_away  winner  time_first_goal_scored  \\\n",
       "0  00LMl81F/             2.0             3.0       2                      17   \n",
       "1  00QH2XdM/             3.0             2.0       1                      14   \n",
       "2  00QL4t1L/             2.0             0.0       1                      77   \n",
       "3  00WAhrVe/             3.0             1.0       1                      28   \n",
       "4  00Wld37M/             2.0             0.0       1                      45   \n",
       "\n",
       "   first_scored_side  \n",
       "0                  2  \n",
       "1                  1  \n",
       "2                  1  \n",
       "3                  2  \n",
       "4                  1  "
      ]
     },
     "execution_count": 13,
     "metadata": {},
     "output_type": "execute_result"
    }
   ],
   "source": [
    "df = pandas.merge(num_goals, first_goal_time_side, on ='id_odsp', how = 'inner')\n",
    "df.head()"
   ]
  },
  {
   "cell_type": "markdown",
   "metadata": {},
   "source": [
    "### add binary variable indicating the result w.r.t. the team that scored first"
   ]
  },
  {
   "cell_type": "code",
   "execution_count": 14,
   "metadata": {
    "ExecuteTime": {
     "end_time": "2018-10-29T10:22:38.833651",
     "start_time": "2018-10-29T10:22:37.854495"
    },
    "collapsed": false
   },
   "outputs": [
    {
     "name": "stdout",
     "output_type": "stream",
     "text": [
      "0.11761893377958403\n",
      "0.1908917045182883\n",
      "0.6914893617021277\n"
     ]
    },
    {
     "data": {
      "text/html": [
       "<div>\n",
       "<style>\n",
       "    .dataframe thead tr:only-child th {\n",
       "        text-align: right;\n",
       "    }\n",
       "\n",
       "    .dataframe thead th {\n",
       "        text-align: left;\n",
       "    }\n",
       "\n",
       "    .dataframe tbody tr th {\n",
       "        vertical-align: top;\n",
       "    }\n",
       "</style>\n",
       "<table border=\"1\" class=\"dataframe\">\n",
       "  <thead>\n",
       "    <tr style=\"text-align: right;\">\n",
       "      <th></th>\n",
       "      <th>id_odsp</th>\n",
       "      <th>num_goals_home</th>\n",
       "      <th>num_goals_away</th>\n",
       "      <th>winner</th>\n",
       "      <th>time_first_goal_scored</th>\n",
       "      <th>first_scored_side</th>\n",
       "      <th>lose</th>\n",
       "      <th>draw</th>\n",
       "      <th>win</th>\n",
       "    </tr>\n",
       "  </thead>\n",
       "  <tbody>\n",
       "    <tr>\n",
       "      <th>0</th>\n",
       "      <td>00LMl81F/</td>\n",
       "      <td>2.0</td>\n",
       "      <td>3.0</td>\n",
       "      <td>2</td>\n",
       "      <td>17</td>\n",
       "      <td>2</td>\n",
       "      <td>0</td>\n",
       "      <td>0</td>\n",
       "      <td>1</td>\n",
       "    </tr>\n",
       "    <tr>\n",
       "      <th>1</th>\n",
       "      <td>00QH2XdM/</td>\n",
       "      <td>3.0</td>\n",
       "      <td>2.0</td>\n",
       "      <td>1</td>\n",
       "      <td>14</td>\n",
       "      <td>1</td>\n",
       "      <td>0</td>\n",
       "      <td>0</td>\n",
       "      <td>1</td>\n",
       "    </tr>\n",
       "    <tr>\n",
       "      <th>2</th>\n",
       "      <td>00QL4t1L/</td>\n",
       "      <td>2.0</td>\n",
       "      <td>0.0</td>\n",
       "      <td>1</td>\n",
       "      <td>77</td>\n",
       "      <td>1</td>\n",
       "      <td>0</td>\n",
       "      <td>0</td>\n",
       "      <td>1</td>\n",
       "    </tr>\n",
       "    <tr>\n",
       "      <th>3</th>\n",
       "      <td>00WAhrVe/</td>\n",
       "      <td>3.0</td>\n",
       "      <td>1.0</td>\n",
       "      <td>1</td>\n",
       "      <td>28</td>\n",
       "      <td>2</td>\n",
       "      <td>1</td>\n",
       "      <td>0</td>\n",
       "      <td>0</td>\n",
       "    </tr>\n",
       "    <tr>\n",
       "      <th>4</th>\n",
       "      <td>00Wld37M/</td>\n",
       "      <td>2.0</td>\n",
       "      <td>0.0</td>\n",
       "      <td>1</td>\n",
       "      <td>45</td>\n",
       "      <td>1</td>\n",
       "      <td>0</td>\n",
       "      <td>0</td>\n",
       "      <td>1</td>\n",
       "    </tr>\n",
       "  </tbody>\n",
       "</table>\n",
       "</div>"
      ],
      "text/plain": [
       "     id_odsp  num_goals_home  num_goals_away  winner  time_first_goal_scored  \\\n",
       "0  00LMl81F/             2.0             3.0       2                      17   \n",
       "1  00QH2XdM/             3.0             2.0       1                      14   \n",
       "2  00QL4t1L/             2.0             0.0       1                      77   \n",
       "3  00WAhrVe/             3.0             1.0       1                      28   \n",
       "4  00Wld37M/             2.0             0.0       1                      45   \n",
       "\n",
       "   first_scored_side  lose  draw  win  \n",
       "0                  2     0     0    1  \n",
       "1                  1     0     0    1  \n",
       "2                  1     0     0    1  \n",
       "3                  2     1     0    0  \n",
       "4                  1     0     0    1  "
      ]
     },
     "execution_count": 14,
     "metadata": {},
     "output_type": "execute_result"
    }
   ],
   "source": [
    "# if the team that didn't score first won the game\n",
    "df['lose'] = df.apply(lambda x: int(x['winner'] != x['first_scored_side'] and x['winner']!=0 ), axis =1 )\n",
    "\n",
    "# if the team that didn't score first drew the game\n",
    "df['draw'] = df.apply(lambda x: int(x['winner'] == 0 ), axis =1 )\n",
    "\n",
    "# if the team that scored the first goal won the game\n",
    "df['win'] = df.apply(lambda x: int( x['winner'] == x['first_scored_side'] ), axis =1 )\n",
    "\n",
    "print(df['lose'].mean())\n",
    "print(df['draw'].mean())\n",
    "print(df['win'].mean())\n",
    "df.head()"
   ]
  },
  {
   "cell_type": "markdown",
   "metadata": {},
   "source": [
    "## get the win percentage by time of the first goal scored"
   ]
  },
  {
   "cell_type": "code",
   "execution_count": 15,
   "metadata": {
    "ExecuteTime": {
     "end_time": "2018-10-29T10:22:39.851693",
     "start_time": "2018-10-29T10:22:38.867763"
    },
    "collapsed": false
   },
   "outputs": [
    {
     "data": {
      "image/png": "[encoded data removed]",
      "text/plain": [
       "<Figure size 432x288 with 1 Axes>"
      ]
     },
     "metadata": {},
     "output_type": "display_data"
    }
   ],
   "source": [
    "win = df.groupby('time_first_goal_scored')['win'].mean()*100\n",
    "plt.bar(range(len(win)), win, color='green')\n",
    "\n",
    "# temp = df.groupby('time_first_goal_scored')['comeback_draw'].mean()*100\n",
    "# plt.bar(range(len(temp)), temp, color='b')\n",
    "\n",
    "plt.xticks([10*x for x in range(10)],[10*x for x in range(10)])\n",
    "plt.axvline(x=45, color='k', ls='dashed')\n",
    "plt.axvline(x=90, color='k', ls='dashed')\n",
    "plt.xlim((-0.9,95))\n",
    "seaborn.despine()\n",
    "plt.ylabel('% of Win', fontsize = 17)\n",
    "plt.xlabel('Minute of First Scored Goal', fontsize = 17)\n",
    "plt.tight_layout()\n",
    "plt.tick_params(labelsize=15)\n",
    "plt.savefig('chance_of_win.png', dpi=200, frameon=False)"
   ]
  },
  {
   "cell_type": "markdown",
   "metadata": {
    "ExecuteTime": {
     "end_time": "2018-10-17T23:27:08.190477",
     "start_time": "2018-10-17T23:27:08.187186"
    }
   },
   "source": [
    "## get the losing percentage by time of first goal scored"
   ]
  },
  {
   "cell_type": "code",
   "execution_count": 16,
   "metadata": {
    "ExecuteTime": {
     "end_time": "2018-10-29T10:22:40.655973",
     "start_time": "2018-10-29T10:22:39.868199"
    },
    "collapsed": false
   },
   "outputs": [
    {
     "data": {
      "image/png": "[encoded data removed]",
      "text/plain": [
       "<Figure size 432x288 with 1 Axes>"
      ]
     },
     "metadata": {},
     "output_type": "display_data"
    }
   ],
   "source": [
    "lose = df.groupby('time_first_goal_scored')['lose'].mean()*100\n",
    "\n",
    "plt.bar(range(len(lose)), lose, color='green')\n",
    "\n",
    "# temp = df.groupby('time_first_goal_scored')['comeback_draw'].mean()*100\n",
    "# plt.bar(range(len(temp)), temp, color='b')\n",
    "\n",
    "plt.xticks([10*x for x in range(10)],[10*x for x in range(10)])\n",
    "plt.axvline(x=45, color='k', ls='dashed')\n",
    "plt.axvline(x=90, color='k', ls='dashed')\n",
    "plt.xlim((-0.9,95))\n",
    "seaborn.despine()\n",
    "plt.ylabel('% of Loss', fontsize = 17)\n",
    "plt.xlabel('Minute of First Scored Goal', fontsize = 17)\n",
    "plt.ylim((0,100))\n",
    "plt.tight_layout()\n",
    "plt.tick_params(labelsize=15)\n",
    "plt.savefig('chance_of_loss.png', dpi=200, frameon=False)"
   ]
  },
  {
   "cell_type": "markdown",
   "metadata": {
    "ExecuteTime": {
     "end_time": "2018-10-17T23:29:53.892917",
     "start_time": "2018-10-17T23:29:53.890497"
    }
   },
   "source": [
    "## get the draw probability "
   ]
  },
  {
   "cell_type": "code",
   "execution_count": 17,
   "metadata": {
    "ExecuteTime": {
     "end_time": "2018-10-29T10:22:41.780723",
     "start_time": "2018-10-29T10:22:40.669222"
    },
    "collapsed": false
   },
   "outputs": [
    {
     "data": {
      "image/png": "[encoded data removed]",
      "text/plain": [
       "<Figure size 432x288 with 1 Axes>"
      ]
     },
     "metadata": {},
     "output_type": "display_data"
    }
   ],
   "source": [
    "draw = df.groupby('time_first_goal_scored')['draw'].mean()*100\n",
    "\n",
    "plt.bar(range(len(draw)), draw, color='green')\n",
    "\n",
    "# temp = df.groupby('time_first_goal_scored')['comeback_draw'].mean()*100\n",
    "# plt.bar(range(len(temp)), temp, color='b')\n",
    "\n",
    "plt.xticks([10*x for x in range(10)],[10*x for x in range(10)])\n",
    "plt.axvline(x=45, color='k', ls='dashed')\n",
    "plt.axvline(x=90, color='k', ls='dashed')\n",
    "plt.xlim((-0.9,95))\n",
    "seaborn.despine()\n",
    "plt.ylabel('% of Draw', fontsize = 17)\n",
    "plt.xlabel('Minute of First Scored Goal', fontsize = 17)\n",
    "plt.ylim((0,100))\n",
    "plt.tight_layout()\n",
    "plt.tick_params(labelsize=15)\n",
    "plt.savefig('chance_of_draw.png', dpi=200, frameon=False)"
   ]
  },
  {
   "cell_type": "markdown",
   "metadata": {},
   "source": [
    "## all together"
   ]
  },
  {
   "cell_type": "code",
   "execution_count": 18,
   "metadata": {
    "ExecuteTime": {
     "end_time": "2018-10-29T10:22:44.945695",
     "start_time": "2018-10-29T10:22:41.787580"
    },
    "collapsed": false
   },
   "outputs": [
    {
     "data": {
      "image/png": "[encoded data removed]",
      "text/plain": [
       "<Figure size 432x288 with 1 Axes>"
      ]
     },
     "metadata": {},
     "output_type": "display_data"
    }
   ],
   "source": [
    "k = 1\n",
    "\n",
    "p1 = plt.bar(range(len(win)), win, width = k, color = 'green')\n",
    "p2 = plt.bar(range(len(draw)), draw, bottom = win, width = k, color = 'orange')\n",
    "p3 = plt.bar(range(len(lose)), lose, bottom= win + draw, width = k, color = 'red')\n",
    "plt.axvline(x=45, ls='dashed', color='k')\n",
    "plt.axvline(x=90, ls='dashed', color='k')\n",
    "plt.xlim((-1,95))\n",
    "\n",
    "plt.xticks([10*x for x in range(10)],[10*x for x in range(10)])\n",
    "plt.axvline(x=45, color='k', ls='dashed')\n",
    "plt.axvline(x=90, color='k', ls='dashed')\n",
    "plt.xlim((-0.9,95))\n",
    "seaborn.despine()\n",
    "plt.ylabel('% of Result', fontsize = 17)\n",
    "plt.xlabel('Minute of First Goal', fontsize = 17)\n",
    "plt.ylim((0,100))\n",
    "plt.tight_layout()\n",
    "plt.tick_params(labelsize=15)\n",
    "plt.savefig('chance_of_result.png', dpi=200, frameon=False)"
   ]
  },
  {
   "cell_type": "markdown",
   "metadata": {},
   "source": [
    "## add sample size to each bad plot"
   ]
  },
  {
   "cell_type": "code",
   "execution_count": 19,
   "metadata": {
    "ExecuteTime": {
     "end_time": "2018-10-29T10:22:46.006188",
     "start_time": "2018-10-29T10:22:44.950607"
    },
    "collapsed": false
   },
   "outputs": [
    {
     "data": {
      "image/png": "[encoded data removed]",
      "text/plain": [
       "<Figure size 432x288 with 1 Axes>"
      ]
     },
     "metadata": {},
     "output_type": "display_data"
    }
   ],
   "source": [
    "temp = df.groupby('time_first_goal_scored').size()\n",
    "\n",
    "k = 1\n",
    "\n",
    "p1 = plt.bar(range(len(temp)), temp, width = k, color = 'lightskyblue')\n",
    "#plt.axvline(x=45, ls='dashed', color='k')\n",
    "#plt.axvline(x=90, ls='dashed', color='k')\n",
    "plt.xlim((-1,95))\n",
    "\n",
    "plt.xticks([10*x for x in range(10)],[10*x for x in range(10)])\n",
    "\n",
    "plt.xlim((-0.9,95))\n",
    "seaborn.despine()\n",
    "plt.ylabel('Number of Games', fontsize = 17)\n",
    "plt.xlabel('Minute of First Goal', fontsize = 17)\n",
    "#plt.ylim((0,100))\n",
    "plt.tight_layout()\n",
    "plt.tick_params(labelsize=15)\n",
    "plt.savefig('number_of_games.png', dpi=200, frameon=False)"
   ]
  },
  {
   "cell_type": "markdown",
   "metadata": {},
   "source": [
    "## bar plot with the bar weights"
   ]
  },
  {
   "cell_type": "code",
   "execution_count": 20,
   "metadata": {
    "ExecuteTime": {
     "end_time": "2018-10-29T10:22:46.021779",
     "start_time": "2018-10-29T10:22:46.010375"
    },
    "collapsed": true
   },
   "outputs": [],
   "source": [
    "def norm(x,size):\n",
    "    min_ = size.max()\n",
    "    max_ = size.min()\n",
    "    mean_ = size.mean()\n",
    "\n",
    "    return (x-min_)/float(max_-min_)"
   ]
  },
  {
   "cell_type": "code",
   "execution_count": 21,
   "metadata": {
    "ExecuteTime": {
     "end_time": "2018-10-29T10:22:48.423211",
     "start_time": "2018-10-29T10:22:46.039063"
    },
    "collapsed": false
   },
   "outputs": [
    {
     "data": {
      "image/png": "[encoded data removed]",
      "text/plain": [
       "<Figure size 432x288 with 1 Axes>"
      ]
     },
     "metadata": {},
     "output_type": "display_data"
    }
   ],
   "source": [
    "win = df.groupby('time_first_goal_scored')['win'].mean()*100\n",
    "draw = df.groupby('time_first_goal_scored')['draw'].mean()*100\n",
    "lose = df.groupby('time_first_goal_scored')['lose'].mean()*100\n",
    "\n",
    "size = df.groupby('time_first_goal_scored').size()\n",
    "\n",
    "for i in range(len(win)):\n",
    "    plt.bar(range(i,i+1), win[i], color='green', alpha=1-norm(size[i],size))\n",
    "    plt.bar(range(i,i+1), draw[i], bottom = win[i], width = k, color = 'orange', alpha=1-norm(size[i],size))\n",
    "    p3 = plt.bar(range(i,i+1), lose[i], bottom= win[i] + draw[i], width = k, color = 'red', alpha=1-norm(size[i],size))\n",
    "    \n",
    "plt.xticks([10*x for x in range(10)],[10*x for x in range(10)])\n",
    "# plt.axvline(x=45, color='k', ls='dashed')\n",
    "# plt.axvline(x=90, color='k', ls='dashed')\n",
    "plt.xlim((-0.9,95))\n",
    "seaborn.despine()\n",
    "plt.ylabel('% of Result', fontsize = 17)\n",
    "plt.xlabel('Minute of First Goal', fontsize = 17)\n",
    "plt.ylim((0,100))\n",
    "plt.tight_layout()\n",
    "plt.tick_params(labelsize=15)\n",
    "plt.savefig('chance_of_result_weighted.png', dpi=200, frameon=False)"
   ]
  },
  {
   "cell_type": "code",
   "execution_count": 22,
   "metadata": {
    "ExecuteTime": {
     "end_time": "2018-10-29T10:22:48.444559",
     "start_time": "2018-10-29T10:22:48.432312"
    },
    "collapsed": false
   },
   "outputs": [
    {
     "data": {
      "text/plain": [
       "(149, 36)"
      ]
     },
     "execution_count": 22,
     "metadata": {},
     "output_type": "execute_result"
    }
   ],
   "source": [
    "size[20], size[76]"
   ]
  },
  {
   "cell_type": "markdown",
   "metadata": {},
   "source": [
    "## average data"
   ]
  },
  {
   "cell_type": "code",
   "execution_count": 23,
   "metadata": {
    "ExecuteTime": {
     "end_time": "2018-10-29T10:22:48.455539",
     "start_time": "2018-10-29T10:22:48.447508"
    },
    "collapsed": false
   },
   "outputs": [
    {
     "data": {
      "text/plain": [
       "(0.6914893617021277, 0.11761893377958403, 0.1908917045182883)"
      ]
     },
     "execution_count": 23,
     "metadata": {},
     "output_type": "execute_result"
    }
   ],
   "source": [
    "## average probability of each result, if you score first\n",
    "df['win'].mean(),df['lose'].mean(),df['draw'].mean()"
   ]
  },
  {
   "cell_type": "code",
   "execution_count": 24,
   "metadata": {
    "ExecuteTime": {
     "end_time": "2018-10-29T10:22:48.483476",
     "start_time": "2018-10-29T10:22:48.458515"
    },
    "collapsed": false
   },
   "outputs": [
    {
     "name": "stdout",
     "output_type": "stream",
     "text": [
      "first half: 0.6585326953748006 0.14066985645933014 0.20079744816586922\n",
      "second half: 0.7900763358778626 0.04866412213740458 0.16125954198473283\n"
     ]
    }
   ],
   "source": [
    "## average probability of each result, if you score first in each half\n",
    "print('first half:', df[df['time_first_goal_scored']<46]['win'].mean(),df[df['time_first_goal_scored']<46]['lose'].mean(),df[df['time_first_goal_scored']<46]['draw'].mean())\n",
    "\n",
    "## average probability of each result, if you score first in each half\n",
    "print('second half:', df[df['time_first_goal_scored']>45]['win'].mean(),df[df['time_first_goal_scored']>45]['lose'].mean(),df[df['time_first_goal_scored']>45]['draw'].mean())"
   ]
  },
  {
   "cell_type": "markdown",
   "metadata": {
    "ExecuteTime": {
     "end_time": "2018-10-06T10:46:12.715137",
     "start_time": "2018-10-06T10:46:12.617701"
    }
   },
   "source": [
    "## join with game metadata"
   ]
  },
  {
   "cell_type": "code",
   "execution_count": 25,
   "metadata": {
    "ExecuteTime": {
     "end_time": "2018-10-29T10:22:48.657891",
     "start_time": "2018-10-29T10:22:48.490586"
    },
    "collapsed": false
   },
   "outputs": [
    {
     "data": {
      "text/html": [
       "<div>\n",
       "<style>\n",
       "    .dataframe thead tr:only-child th {\n",
       "        text-align: right;\n",
       "    }\n",
       "\n",
       "    .dataframe thead th {\n",
       "        text-align: left;\n",
       "    }\n",
       "\n",
       "    .dataframe tbody tr th {\n",
       "        vertical-align: top;\n",
       "    }\n",
       "</style>\n",
       "<table border=\"1\" class=\"dataframe\">\n",
       "  <thead>\n",
       "    <tr style=\"text-align: right;\">\n",
       "      <th></th>\n",
       "      <th>id_odsp</th>\n",
       "      <th>link_odsp</th>\n",
       "      <th>adv_stats</th>\n",
       "      <th>date</th>\n",
       "      <th>league</th>\n",
       "      <th>season</th>\n",
       "      <th>country</th>\n",
       "      <th>ht</th>\n",
       "      <th>at</th>\n",
       "      <th>fthg</th>\n",
       "      <th>ftag</th>\n",
       "      <th>odd_h</th>\n",
       "      <th>odd_d</th>\n",
       "      <th>odd_a</th>\n",
       "      <th>odd_over</th>\n",
       "      <th>odd_under</th>\n",
       "      <th>odd_bts</th>\n",
       "      <th>odd_bts_n</th>\n",
       "    </tr>\n",
       "  </thead>\n",
       "  <tbody>\n",
       "    <tr>\n",
       "      <th>0</th>\n",
       "      <td>UFot0hit/</td>\n",
       "      <td>/soccer/germany/bundesliga-2011-2012/dortmund-...</td>\n",
       "      <td>True</td>\n",
       "      <td>2011-08-05</td>\n",
       "      <td>D1</td>\n",
       "      <td>2012</td>\n",
       "      <td>germany</td>\n",
       "      <td>Borussia Dortmund</td>\n",
       "      <td>Hamburg SV</td>\n",
       "      <td>3</td>\n",
       "      <td>1</td>\n",
       "      <td>1.56</td>\n",
       "      <td>4.41</td>\n",
       "      <td>7.42</td>\n",
       "      <td>NaN</td>\n",
       "      <td>NaN</td>\n",
       "      <td>NaN</td>\n",
       "      <td>NaN</td>\n",
       "    </tr>\n",
       "    <tr>\n",
       "      <th>1</th>\n",
       "      <td>Aw5DflLH/</td>\n",
       "      <td>/soccer/germany/bundesliga-2011-2012/augsburg-...</td>\n",
       "      <td>True</td>\n",
       "      <td>2011-08-06</td>\n",
       "      <td>D1</td>\n",
       "      <td>2012</td>\n",
       "      <td>germany</td>\n",
       "      <td>FC Augsburg</td>\n",
       "      <td>SC Freiburg</td>\n",
       "      <td>2</td>\n",
       "      <td>2</td>\n",
       "      <td>2.36</td>\n",
       "      <td>3.60</td>\n",
       "      <td>3.40</td>\n",
       "      <td>NaN</td>\n",
       "      <td>NaN</td>\n",
       "      <td>NaN</td>\n",
       "      <td>NaN</td>\n",
       "    </tr>\n",
       "    <tr>\n",
       "      <th>2</th>\n",
       "      <td>bkjpaC6n/</td>\n",
       "      <td>/soccer/germany/bundesliga-2011-2012/werder-br...</td>\n",
       "      <td>True</td>\n",
       "      <td>2011-08-06</td>\n",
       "      <td>D1</td>\n",
       "      <td>2012</td>\n",
       "      <td>germany</td>\n",
       "      <td>Werder Bremen</td>\n",
       "      <td>Kaiserslautern</td>\n",
       "      <td>2</td>\n",
       "      <td>0</td>\n",
       "      <td>1.83</td>\n",
       "      <td>4.20</td>\n",
       "      <td>4.80</td>\n",
       "      <td>NaN</td>\n",
       "      <td>NaN</td>\n",
       "      <td>NaN</td>\n",
       "      <td>NaN</td>\n",
       "    </tr>\n",
       "    <tr>\n",
       "      <th>3</th>\n",
       "      <td>CzPV312a/</td>\n",
       "      <td>/soccer/france/ligue-1-2011-2012/paris-sg-lori...</td>\n",
       "      <td>True</td>\n",
       "      <td>2011-08-06</td>\n",
       "      <td>F1</td>\n",
       "      <td>2012</td>\n",
       "      <td>france</td>\n",
       "      <td>Paris Saint-Germain</td>\n",
       "      <td>Lorient</td>\n",
       "      <td>0</td>\n",
       "      <td>1</td>\n",
       "      <td>1.55</td>\n",
       "      <td>4.50</td>\n",
       "      <td>9.40</td>\n",
       "      <td>NaN</td>\n",
       "      <td>NaN</td>\n",
       "      <td>NaN</td>\n",
       "      <td>NaN</td>\n",
       "    </tr>\n",
       "    <tr>\n",
       "      <th>4</th>\n",
       "      <td>GUOdmtII/</td>\n",
       "      <td>/soccer/france/ligue-1-2011-2012/caen-valencie...</td>\n",
       "      <td>True</td>\n",
       "      <td>2011-08-06</td>\n",
       "      <td>F1</td>\n",
       "      <td>2012</td>\n",
       "      <td>france</td>\n",
       "      <td>Caen</td>\n",
       "      <td>Valenciennes</td>\n",
       "      <td>1</td>\n",
       "      <td>0</td>\n",
       "      <td>2.50</td>\n",
       "      <td>3.40</td>\n",
       "      <td>3.45</td>\n",
       "      <td>NaN</td>\n",
       "      <td>NaN</td>\n",
       "      <td>NaN</td>\n",
       "      <td>NaN</td>\n",
       "    </tr>\n",
       "  </tbody>\n",
       "</table>\n",
       "</div>"
      ],
      "text/plain": [
       "     id_odsp                                          link_odsp  adv_stats  \\\n",
       "0  UFot0hit/  /soccer/germany/bundesliga-2011-2012/dortmund-...       True   \n",
       "1  Aw5DflLH/  /soccer/germany/bundesliga-2011-2012/augsburg-...       True   \n",
       "2  bkjpaC6n/  /soccer/germany/bundesliga-2011-2012/werder-br...       True   \n",
       "3  CzPV312a/  /soccer/france/ligue-1-2011-2012/paris-sg-lori...       True   \n",
       "4  GUOdmtII/  /soccer/france/ligue-1-2011-2012/caen-valencie...       True   \n",
       "\n",
       "         date league  season  country                   ht              at  \\\n",
       "0  2011-08-05     D1    2012  germany    Borussia Dortmund      Hamburg SV   \n",
       "1  2011-08-06     D1    2012  germany          FC Augsburg     SC Freiburg   \n",
       "2  2011-08-06     D1    2012  germany        Werder Bremen  Kaiserslautern   \n",
       "3  2011-08-06     F1    2012   france  Paris Saint-Germain         Lorient   \n",
       "4  2011-08-06     F1    2012   france                 Caen    Valenciennes   \n",
       "\n",
       "   fthg  ftag  odd_h  odd_d  odd_a  odd_over  odd_under  odd_bts  odd_bts_n  \n",
       "0     3     1   1.56   4.41   7.42       NaN        NaN      NaN        NaN  \n",
       "1     2     2   2.36   3.60   3.40       NaN        NaN      NaN        NaN  \n",
       "2     2     0   1.83   4.20   4.80       NaN        NaN      NaN        NaN  \n",
       "3     0     1   1.55   4.50   9.40       NaN        NaN      NaN        NaN  \n",
       "4     1     0   2.50   3.40   3.45       NaN        NaN      NaN        NaN  "
      ]
     },
     "execution_count": 25,
     "metadata": {},
     "output_type": "execute_result"
    }
   ],
   "source": [
    "ginf = pandas.read_csv('ginf.csv')\n",
    "ginf.head()"
   ]
  },
  {
   "cell_type": "code",
   "execution_count": 26,
   "metadata": {
    "ExecuteTime": {
     "end_time": "2018-10-29T10:22:48.677003",
     "start_time": "2018-10-29T10:22:48.659896"
    },
    "collapsed": false
   },
   "outputs": [],
   "source": [
    "df_info = pandas.merge(df, ginf[['id_odsp', 'league', 'country','season']], on='id_odsp', how='inner')"
   ]
  }
 ],
 "metadata": {
  "anaconda-cloud": {},
  "kernelspec": {
   "display_name": "Python [default]",
   "language": "python",
   "name": "python3"
  },
  "language_info": {
   "codemirror_mode": {
    "name": "ipython",
    "version": 3
   },
   "file_extension": ".py",
   "mimetype": "text/x-python",
   "name": "python",
   "nbconvert_exporter": "python",
   "pygments_lexer": "ipython3",
   "version": "3.5.4"
  },
  "toc": {
   "colors": {
    "hover_highlight": "#DAA520",
    "running_highlight": "#FF0000",
    "selected_highlight": "#FFD700"
   },
   "moveMenuLeft": true,
   "nav_menu": {
    "height": "313px",
    "width": "252px"
   },
   "navigate_menu": true,
   "number_sections": true,
   "sideBar": true,
   "threshold": 4,
   "toc_cell": false,
   "toc_section_display": "block",
   "toc_window_display": false
  }
 },
 "nbformat": 4,
 "nbformat_minor": 2
}
